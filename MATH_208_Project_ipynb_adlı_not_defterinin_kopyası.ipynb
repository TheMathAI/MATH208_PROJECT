{
  "nbformat": 4,
  "nbformat_minor": 0,
  "metadata": {
    "colab": {
      "provenance": []
    },
    "kernelspec": {
      "name": "ir",
      "display_name": "R"
    },
    "language_info": {
      "name": "R"
    },
    "gpuClass": "standard"
  },
  "cells": [
    {
      "cell_type": "code",
      "source": [
        "# library\n",
        "library(tidyverse)\n",
        "library(ggplot2)"
      ],
      "metadata": {
        "id": "cBsJvH-J_26t"
      },
      "execution_count": null,
      "outputs": []
    },
    {
      "cell_type": "code",
      "execution_count": null,
      "metadata": {
        "colab": {
          "base_uri": "https://localhost:8080/",
          "height": 34
        },
        "id": "_GiPMqeK5tgy",
        "outputId": "ce7b8756-50a9-45ea-a95a-e70520672d90"
      },
      "outputs": [
        {
          "output_type": "display_data",
          "data": {
            "text/html": [
              "<style>\n",
              ".list-inline {list-style: none; margin:0; padding: 0}\n",
              ".list-inline>li {display: inline-block}\n",
              ".list-inline>li:not(:last-child)::after {content: \"\\00b7\"; padding: 0 .5ex}\n",
              "</style>\n",
              "<ol class=list-inline><li>'ID'</li><li>'Product'</li><li>'Type'</li><li>'Release.Date'</li><li>'Process.Size..nm.'</li><li>'TDP..W.'</li><li>'Die.Size..mm.2.'</li><li>'Transistors..million.'</li><li>'Freq..MHz.'</li><li>'Foundry'</li><li>'Vendor'</li><li>'FP16.GFLOPS'</li><li>'FP32.GFLOPS'</li><li>'FP64.GFLOPS'</li></ol>\n"
            ],
            "text/markdown": "1. 'ID'\n2. 'Product'\n3. 'Type'\n4. 'Release.Date'\n5. 'Process.Size..nm.'\n6. 'TDP..W.'\n7. 'Die.Size..mm.2.'\n8. 'Transistors..million.'\n9. 'Freq..MHz.'\n10. 'Foundry'\n11. 'Vendor'\n12. 'FP16.GFLOPS'\n13. 'FP32.GFLOPS'\n14. 'FP64.GFLOPS'\n\n\n",
            "text/latex": "\\begin{enumerate*}\n\\item 'ID'\n\\item 'Product'\n\\item 'Type'\n\\item 'Release.Date'\n\\item 'Process.Size..nm.'\n\\item 'TDP..W.'\n\\item 'Die.Size..mm.2.'\n\\item 'Transistors..million.'\n\\item 'Freq..MHz.'\n\\item 'Foundry'\n\\item 'Vendor'\n\\item 'FP16.GFLOPS'\n\\item 'FP32.GFLOPS'\n\\item 'FP64.GFLOPS'\n\\end{enumerate*}\n",
            "text/plain": [
              " [1] \"ID\"                    \"Product\"               \"Type\"                 \n",
              " [4] \"Release.Date\"          \"Process.Size..nm.\"     \"TDP..W.\"              \n",
              " [7] \"Die.Size..mm.2.\"       \"Transistors..million.\" \"Freq..MHz.\"           \n",
              "[10] \"Foundry\"               \"Vendor\"                \"FP16.GFLOPS\"          \n",
              "[13] \"FP32.GFLOPS\"           \"FP64.GFLOPS\"          "
            ]
          },
          "metadata": {}
        }
      ],
      "source": [
        "# taking data from github to a dataframe\n",
        "cpu_gpu_data <- read.csv(\"https://raw.githubusercontent.com/TheMathAI/MATH208_PROJECT/main/chip_dataset.csv\")\n",
        "\n",
        "names(cpu_gpu_data)"
      ]
    },
    {
      "cell_type": "code",
      "source": [
        "# replacing columns names to get initial columns names\n",
        "colnames(cpu_gpu_data) <- c('ID', 'Product', 'Type', 'Release_Date', 'Process_Size_(nm)', 'TDP_(W)', 'Die_Size_(mm_square)', 'Transistors_(million)', 'Freq_(MHz)', 'Foundry', 'Vendor', 'FP16_GFLOPS', 'FP32_GFLOPS', 'FP64_GFLOPD')\n",
        "names(cpu_gpu_data)"
      ],
      "metadata": {
        "colab": {
          "base_uri": "https://localhost:8080/",
          "height": 34
        },
        "id": "aoz8b0QTC02T",
        "outputId": "c38ec354-a233-4659-fef6-b3c4940e4c99"
      },
      "execution_count": null,
      "outputs": [
        {
          "output_type": "display_data",
          "data": {
            "text/html": [
              "<style>\n",
              ".list-inline {list-style: none; margin:0; padding: 0}\n",
              ".list-inline>li {display: inline-block}\n",
              ".list-inline>li:not(:last-child)::after {content: \"\\00b7\"; padding: 0 .5ex}\n",
              "</style>\n",
              "<ol class=list-inline><li>'ID'</li><li>'Product'</li><li>'Type'</li><li>'Release_Date'</li><li>'Process_Size_(nm)'</li><li>'TDP_(W)'</li><li>'Die_Size_(mm_square)'</li><li>'Transistors_(million)'</li><li>'Freq_(MHz)'</li><li>'Foundry'</li><li>'Vendor'</li><li>'FP16_GFLOPS'</li><li>'FP32_GFLOPS'</li><li>'FP64_GFLOPD'</li></ol>\n"
            ],
            "text/markdown": "1. 'ID'\n2. 'Product'\n3. 'Type'\n4. 'Release_Date'\n5. 'Process_Size_(nm)'\n6. 'TDP_(W)'\n7. 'Die_Size_(mm_square)'\n8. 'Transistors_(million)'\n9. 'Freq_(MHz)'\n10. 'Foundry'\n11. 'Vendor'\n12. 'FP16_GFLOPS'\n13. 'FP32_GFLOPS'\n14. 'FP64_GFLOPD'\n\n\n",
            "text/latex": "\\begin{enumerate*}\n\\item 'ID'\n\\item 'Product'\n\\item 'Type'\n\\item 'Release\\_Date'\n\\item 'Process\\_Size\\_(nm)'\n\\item 'TDP\\_(W)'\n\\item 'Die\\_Size\\_(mm\\_square)'\n\\item 'Transistors\\_(million)'\n\\item 'Freq\\_(MHz)'\n\\item 'Foundry'\n\\item 'Vendor'\n\\item 'FP16\\_GFLOPS'\n\\item 'FP32\\_GFLOPS'\n\\item 'FP64\\_GFLOPD'\n\\end{enumerate*}\n",
            "text/plain": [
              " [1] \"ID\"                    \"Product\"               \"Type\"                 \n",
              " [4] \"Release_Date\"          \"Process_Size_(nm)\"     \"TDP_(W)\"              \n",
              " [7] \"Die_Size_(mm_square)\"  \"Transistors_(million)\" \"Freq_(MHz)\"           \n",
              "[10] \"Foundry\"               \"Vendor\"                \"FP16_GFLOPS\"          \n",
              "[13] \"FP32_GFLOPS\"           \"FP64_GFLOPD\"          "
            ]
          },
          "metadata": {}
        }
      ]
    },
    {
      "cell_type": "code",
      "source": [
        "head(cpu_gpu_data)"
      ],
      "metadata": {
        "colab": {
          "base_uri": "https://localhost:8080/",
          "height": 286
        },
        "id": "gVnfrdZq_hCC",
        "outputId": "30db1e74-f13b-4ad7-9eb2-5075b79f9890"
      },
      "execution_count": null,
      "outputs": [
        {
          "output_type": "display_data",
          "data": {
            "text/html": [
              "<table class=\"dataframe\">\n",
              "<caption>A data.frame: 6 × 14</caption>\n",
              "<thead>\n",
              "\t<tr><th></th><th scope=col>ID</th><th scope=col>Product</th><th scope=col>Type</th><th scope=col>Release_Date</th><th scope=col>Process_Size_(nm)</th><th scope=col>TDP_(W)</th><th scope=col>Die_Size_(mm_square)</th><th scope=col>Transistors_(million)</th><th scope=col>Freq_(MHz)</th><th scope=col>Foundry</th><th scope=col>Vendor</th><th scope=col>FP16_GFLOPS</th><th scope=col>FP32_GFLOPS</th><th scope=col>FP64_GFLOPD</th></tr>\n",
              "\t<tr><th></th><th scope=col>&lt;int&gt;</th><th scope=col>&lt;chr&gt;</th><th scope=col>&lt;chr&gt;</th><th scope=col>&lt;chr&gt;</th><th scope=col>&lt;dbl&gt;</th><th scope=col>&lt;dbl&gt;</th><th scope=col>&lt;dbl&gt;</th><th scope=col>&lt;dbl&gt;</th><th scope=col>&lt;dbl&gt;</th><th scope=col>&lt;chr&gt;</th><th scope=col>&lt;chr&gt;</th><th scope=col>&lt;dbl&gt;</th><th scope=col>&lt;dbl&gt;</th><th scope=col>&lt;dbl&gt;</th></tr>\n",
              "</thead>\n",
              "<tbody>\n",
              "\t<tr><th scope=row>1</th><td>0</td><td>AMD Athlon 64 3500+    </td><td>CPU</td><td>2007-02-20</td><td>65</td><td> 45</td><td> 77</td><td> 122</td><td>2200</td><td>Unknown</td><td>AMD  </td><td>NA</td><td>NA</td><td>NA</td></tr>\n",
              "\t<tr><th scope=row>2</th><td>1</td><td>AMD Athlon 200GE       </td><td>CPU</td><td>2018-09-06</td><td>14</td><td> 35</td><td>192</td><td>4800</td><td>3200</td><td>Unknown</td><td>AMD  </td><td>NA</td><td>NA</td><td>NA</td></tr>\n",
              "\t<tr><th scope=row>3</th><td>2</td><td>Intel Core i5-1145G7   </td><td>CPU</td><td>2020-09-02</td><td>10</td><td> 28</td><td> NA</td><td>  NA</td><td>2600</td><td>Intel  </td><td>Intel</td><td>NA</td><td>NA</td><td>NA</td></tr>\n",
              "\t<tr><th scope=row>4</th><td>3</td><td>Intel Xeon E5-2603 v2  </td><td>CPU</td><td>2013-09-01</td><td>22</td><td> 80</td><td>160</td><td>1400</td><td>1800</td><td>Intel  </td><td>Intel</td><td>NA</td><td>NA</td><td>NA</td></tr>\n",
              "\t<tr><th scope=row>5</th><td>4</td><td>AMD Phenom II X4 980 BE</td><td>CPU</td><td>2011-05-03</td><td>45</td><td>125</td><td>258</td><td> 758</td><td>3700</td><td>Unknown</td><td>AMD  </td><td>NA</td><td>NA</td><td>NA</td></tr>\n",
              "\t<tr><th scope=row>6</th><td>5</td><td>Intel Xeon E5-2470 v2  </td><td>CPU</td><td>2013-09-01</td><td>22</td><td> 95</td><td>160</td><td>1400</td><td>2400</td><td>Intel  </td><td>Intel</td><td>NA</td><td>NA</td><td>NA</td></tr>\n",
              "</tbody>\n",
              "</table>\n"
            ],
            "text/markdown": "\nA data.frame: 6 × 14\n\n| <!--/--> | ID &lt;int&gt; | Product &lt;chr&gt; | Type &lt;chr&gt; | Release_Date &lt;chr&gt; | Process_Size_(nm) &lt;dbl&gt; | TDP_(W) &lt;dbl&gt; | Die_Size_(mm_square) &lt;dbl&gt; | Transistors_(million) &lt;dbl&gt; | Freq_(MHz) &lt;dbl&gt; | Foundry &lt;chr&gt; | Vendor &lt;chr&gt; | FP16_GFLOPS &lt;dbl&gt; | FP32_GFLOPS &lt;dbl&gt; | FP64_GFLOPD &lt;dbl&gt; |\n|---|---|---|---|---|---|---|---|---|---|---|---|---|---|---|\n| 1 | 0 | AMD Athlon 64 3500+     | CPU | 2007-02-20 | 65 |  45 |  77 |  122 | 2200 | Unknown | AMD   | NA | NA | NA |\n| 2 | 1 | AMD Athlon 200GE        | CPU | 2018-09-06 | 14 |  35 | 192 | 4800 | 3200 | Unknown | AMD   | NA | NA | NA |\n| 3 | 2 | Intel Core i5-1145G7    | CPU | 2020-09-02 | 10 |  28 |  NA |   NA | 2600 | Intel   | Intel | NA | NA | NA |\n| 4 | 3 | Intel Xeon E5-2603 v2   | CPU | 2013-09-01 | 22 |  80 | 160 | 1400 | 1800 | Intel   | Intel | NA | NA | NA |\n| 5 | 4 | AMD Phenom II X4 980 BE | CPU | 2011-05-03 | 45 | 125 | 258 |  758 | 3700 | Unknown | AMD   | NA | NA | NA |\n| 6 | 5 | Intel Xeon E5-2470 v2   | CPU | 2013-09-01 | 22 |  95 | 160 | 1400 | 2400 | Intel   | Intel | NA | NA | NA |\n\n",
            "text/latex": "A data.frame: 6 × 14\n\\begin{tabular}{r|llllllllllllll}\n  & ID & Product & Type & Release\\_Date & Process\\_Size\\_(nm) & TDP\\_(W) & Die\\_Size\\_(mm\\_square) & Transistors\\_(million) & Freq\\_(MHz) & Foundry & Vendor & FP16\\_GFLOPS & FP32\\_GFLOPS & FP64\\_GFLOPD\\\\\n  & <int> & <chr> & <chr> & <chr> & <dbl> & <dbl> & <dbl> & <dbl> & <dbl> & <chr> & <chr> & <dbl> & <dbl> & <dbl>\\\\\n\\hline\n\t1 & 0 & AMD Athlon 64 3500+     & CPU & 2007-02-20 & 65 &  45 &  77 &  122 & 2200 & Unknown & AMD   & NA & NA & NA\\\\\n\t2 & 1 & AMD Athlon 200GE        & CPU & 2018-09-06 & 14 &  35 & 192 & 4800 & 3200 & Unknown & AMD   & NA & NA & NA\\\\\n\t3 & 2 & Intel Core i5-1145G7    & CPU & 2020-09-02 & 10 &  28 &  NA &   NA & 2600 & Intel   & Intel & NA & NA & NA\\\\\n\t4 & 3 & Intel Xeon E5-2603 v2   & CPU & 2013-09-01 & 22 &  80 & 160 & 1400 & 1800 & Intel   & Intel & NA & NA & NA\\\\\n\t5 & 4 & AMD Phenom II X4 980 BE & CPU & 2011-05-03 & 45 & 125 & 258 &  758 & 3700 & Unknown & AMD   & NA & NA & NA\\\\\n\t6 & 5 & Intel Xeon E5-2470 v2   & CPU & 2013-09-01 & 22 &  95 & 160 & 1400 & 2400 & Intel   & Intel & NA & NA & NA\\\\\n\\end{tabular}\n",
            "text/plain": [
              "  ID Product                 Type Release_Date Process_Size_(nm) TDP_(W)\n",
              "1 0  AMD Athlon 64 3500+     CPU  2007-02-20   65                 45    \n",
              "2 1  AMD Athlon 200GE        CPU  2018-09-06   14                 35    \n",
              "3 2  Intel Core i5-1145G7    CPU  2020-09-02   10                 28    \n",
              "4 3  Intel Xeon E5-2603 v2   CPU  2013-09-01   22                 80    \n",
              "5 4  AMD Phenom II X4 980 BE CPU  2011-05-03   45                125    \n",
              "6 5  Intel Xeon E5-2470 v2   CPU  2013-09-01   22                 95    \n",
              "  Die_Size_(mm_square) Transistors_(million) Freq_(MHz) Foundry Vendor\n",
              "1  77                   122                  2200       Unknown AMD   \n",
              "2 192                  4800                  3200       Unknown AMD   \n",
              "3  NA                    NA                  2600       Intel   Intel \n",
              "4 160                  1400                  1800       Intel   Intel \n",
              "5 258                   758                  3700       Unknown AMD   \n",
              "6 160                  1400                  2400       Intel   Intel \n",
              "  FP16_GFLOPS FP32_GFLOPS FP64_GFLOPD\n",
              "1 NA          NA          NA         \n",
              "2 NA          NA          NA         \n",
              "3 NA          NA          NA         \n",
              "4 NA          NA          NA         \n",
              "5 NA          NA          NA         \n",
              "6 NA          NA          NA         "
            ]
          },
          "metadata": {}
        }
      ]
    },
    {
      "cell_type": "code",
      "source": [
        "# remove all rows with NA values between the column 5 and 9 inclunding 5,9.\n",
        "cpu_gpu_data_no_NA <- cpu_gpu_data[complete.cases(cpu_gpu_data[ , 5:9]),]"
      ],
      "metadata": {
        "id": "ISQ9RovTYRJR"
      },
      "execution_count": null,
      "outputs": []
    },
    {
      "cell_type": "code",
      "source": [
        "# Count by group (CPU and GPU) with proportion\n",
        "cpu_gpu_data_count <- cpu_gpu_data_no_NA %>% group_by(Type) %>% summarise(count=n()) %>%\n",
        " mutate(prop=count/sum(count)) %>% arrange(desc(count))\n",
        "\n",
        "cpu_gpu_data_count"
      ],
      "metadata": {
        "colab": {
          "base_uri": "https://localhost:8080/",
          "height": 161
        },
        "id": "fiyVUgOGYbz0",
        "outputId": "d5dc4a4e-d857-46a6-85d7-99c87a82033c"
      },
      "execution_count": null,
      "outputs": [
        {
          "output_type": "display_data",
          "data": {
            "text/html": [
              "<table class=\"dataframe\">\n",
              "<caption>A tibble: 2 × 3</caption>\n",
              "<thead>\n",
              "\t<tr><th scope=col>Type</th><th scope=col>count</th><th scope=col>prop</th></tr>\n",
              "\t<tr><th scope=col>&lt;chr&gt;</th><th scope=col>&lt;int&gt;</th><th scope=col>&lt;dbl&gt;</th></tr>\n",
              "</thead>\n",
              "<tbody>\n",
              "\t<tr><td>GPU</td><td>1879</td><td>0.5490941</td></tr>\n",
              "\t<tr><td>CPU</td><td>1543</td><td>0.4509059</td></tr>\n",
              "</tbody>\n",
              "</table>\n"
            ],
            "text/markdown": "\nA tibble: 2 × 3\n\n| Type &lt;chr&gt; | count &lt;int&gt; | prop &lt;dbl&gt; |\n|---|---|---|\n| GPU | 1879 | 0.5490941 |\n| CPU | 1543 | 0.4509059 |\n\n",
            "text/latex": "A tibble: 2 × 3\n\\begin{tabular}{lll}\n Type & count & prop\\\\\n <chr> & <int> & <dbl>\\\\\n\\hline\n\t GPU & 1879 & 0.5490941\\\\\n\t CPU & 1543 & 0.4509059\\\\\n\\end{tabular}\n",
            "text/plain": [
              "  Type count prop     \n",
              "1 GPU  1879  0.5490941\n",
              "2 CPU  1543  0.4509059"
            ]
          },
          "metadata": {}
        }
      ]
    },
    {
      "cell_type": "code",
      "source": [
        "# It contains min, max, mean, median, sd, IQR, Q1 and Q3. Feel free to add \n",
        "#other functions that would give us more information on the data\n",
        "summary_cpu_gpu <- cpu_gpu_data_no_NA %>% group_by(Type) %>% select(Type, 'Process_Size_(nm)', 'TDP_(W)', 'Die_Size_(mm_square)', 'Transistors_(million)', 'Freq_(MHz)') %>%\n",
        "  summarise_all(list(Min=min, Max=max,Avg=mean, Med=median, Sd=sd, iqr=IQR, Q1=~quantile(.,probs=0.25), Q3=~quantile(.,probs=0.75))) %>% \n",
        "  pivot_longer(cols=starts_with(c('Process','TDP','Die','Transistors','Freq')), names_to = \"Measure\", values_drop_na = TRUE)\n",
        "\n",
        "summary_cpu_gpu"
      ],
      "metadata": {
        "id": "BtmaQh5pgwjg"
      },
      "execution_count": null,
      "outputs": []
    },
    {
      "cell_type": "code",
      "source": [
        "# pivoting wider to compare more easily the difference between CPU and GPU\n",
        "summary_cpu_gpu %>% pivot_wider(names_from = Type, values_from = value)\n",
        "colnames(cpu_gpu_data_no_NA)"
      ],
      "metadata": {
        "id": "MDnZz5ntkXqR",
        "outputId": "7c70e0d2-e8b9-4023-8c97-8f00667f950c",
        "colab": {
          "base_uri": "https://localhost:8080/",
          "height": 148
        }
      },
      "execution_count": null,
      "outputs": [
        {
          "output_type": "error",
          "ename": "ERROR",
          "evalue": "ignored",
          "traceback": [
            "Error in pivot_wider(., names_from = Type, values_from = value): object 'summary_cpu_gpu' not found\nTraceback:\n",
            "1. summary_cpu_gpu %>% pivot_wider(names_from = Type, values_from = value)",
            "2. pivot_wider(., names_from = Type, values_from = value)"
          ]
        }
      ]
    },
    {
      "cell_type": "code",
      "source": [
        "# boxplot\n",
        "ggplot(cpu_gpu_data_no_NA,aes(x=Type,y=`Process_Size_(nm)`,fill=Type)) +\n",
        "stat_boxplot(geom=\"errorbar\",width=0.5) + geom_boxplot() +\n",
        "ylab(\"Process Size (nm)\")"
      ],
      "metadata": {
        "colab": {
          "base_uri": "https://localhost:8080/",
          "height": 437
        },
        "id": "f1I7DomwXGqu",
        "outputId": "e9168c2b-c873-4a51-9609-b70f5f2cb178"
      },
      "execution_count": null,
      "outputs": [
        {
          "output_type": "display_data",
          "data": {
            "text/plain": [
              "plot without title"
            ],
            "image/png": "[encoded data removed]"
          },
          "metadata": {
            "image/png": {
              "width": 420,
              "height": 420
            }
          }
        }
      ]
    }
  ]
}